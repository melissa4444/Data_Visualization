{
 "cells": [
  {
   "cell_type": "code",
   "execution_count": 17,
   "id": "641c650a",
   "metadata": {},
   "outputs": [],
   "source": [
    "import numpy as np\n",
    "import pandas as pd\n",
    "import matplotlib as plt\n",
    "%matplotlib inline\n",
    "\n",
    "datadir= 'data/'"
   ]
  },
  {
   "cell_type": "code",
   "execution_count": 18,
   "id": "4bebd30d",
   "metadata": {},
   "outputs": [],
   "source": [
    "infile = datadir + 'Disability_and_Health_Data_System__DHDS_.csv'\n",
    "Health = pd.read_csv(infile)"
   ]
  },
  {
   "cell_type": "code",
   "execution_count": null,
   "id": "0e9abf6a",
   "metadata": {},
   "outputs": [],
   "source": []
  },
  {
   "cell_type": "code",
   "execution_count": null,
   "id": "3ed58f02",
   "metadata": {},
   "outputs": [],
   "source": []
  }
 ],
 "metadata": {
  "kernelspec": {
   "display_name": "Python 3",
   "language": "python",
   "name": "python3"
  },
  "language_info": {
   "codemirror_mode": {
    "name": "ipython",
    "version": 3
   },
   "file_extension": ".py",
   "mimetype": "text/x-python",
   "name": "python",
   "nbconvert_exporter": "python",
   "pygments_lexer": "ipython3",
   "version": "3.8.8"
  }
 },
 "nbformat": 4,
 "nbformat_minor": 5
}
