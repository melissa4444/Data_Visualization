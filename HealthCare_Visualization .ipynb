{
 "cells": [
  {
   "cell_type": "markdown",
   "id": "d2475453",
   "metadata": {},
   "source": [
    "hello"
   ]
  },
  {
   "cell_type": "markdown",
   "id": "a860f962",
   "metadata": {},
   "source": [
    "this"
   ]
  },
  {
   "cell_type": "markdown",
   "id": "2eed4f64",
   "metadata": {},
   "source": [
    "# is it working"
   ]
  },
  {
   "cell_type": "code",
   "execution_count": null,
   "id": "aa10962b",
   "metadata": {},
   "outputs": [],
   "source": []
  }
 ],
 "metadata": {
  "kernelspec": {
   "display_name": "Python 3",
   "language": "python",
   "name": "python3"
  },
  "language_info": {
   "codemirror_mode": {
    "name": "ipython",
    "version": 3
   },
   "file_extension": ".py",
   "mimetype": "text/x-python",
   "name": "python",
   "nbconvert_exporter": "python",
   "pygments_lexer": "ipython3",
   "version": "3.8.8"
  }
 },
 "nbformat": 4,
 "nbformat_minor": 5
}
