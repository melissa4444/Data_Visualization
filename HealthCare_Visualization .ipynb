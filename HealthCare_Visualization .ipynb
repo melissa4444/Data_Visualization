{
 "cells": [
  {
   "cell_type": "markdown",
   "id": "2e63f0e9",
   "metadata": {},
   "source": [
    "is it working"
   ]
  },
  {
   "cell_type": "markdown",
   "id": "9db2d748",
   "metadata": {},
   "source": [
    "this"
   ]
  },
  {
   "cell_type": "markdown",
   "id": "6aa293ed",
   "metadata": {},
   "source": [
    "# is it working"
   ]
  },
  {
   "cell_type": "code",
   "execution_count": 7,
   "id": "03a7f9cf",
   "metadata": {},
   "outputs": [],
   "source": [
    "%matplotlib inline\n",
    "\n",
    "import matplotlib.pyplot as plt\n",
    "import math\n",
    "from IPython.display import Image, display\n",
    "\n",
    "        \n",
    "datadir = 'data/'\n",
    "imagesdir = 'images/'\n",
    "\n",
    "\n",
    "# datadir = '/content/drive/My Drive/Courses/672/Notebooks/data/'\n",
    "# imagesdir = '/content/drive/My Drive/Courses/672/Notebooks/images/'\n",
    "\n",
    "def display_images(images, dir=imagesdir):\n",
    "    for image in images:\n",
    "        display(Image(dir + image))\n",
    "        \n",
    "        \n",
    "import numpy as np\n",
    "import pandas as pd\n",
    "from pandas import Series, DataFrame\n",
    "import datetime\n",
    "import matplotlib.dates as mdates\n",
    "from matplotlib.ticker import AutoMinorLocator\n",
    "import matplotlib.pyplot as plt\n",
    "from matplotlib import rcParams\n",
    "import calendar"
   ]
  },
  {
   "cell_type": "code",
   "execution_count": 8,
   "id": "4e9743e0",
   "metadata": {},
   "outputs": [
    {
     "data": {
      "text/plain": [
       "<function matplotlib.pyplot.show(close=None, block=None)>"
      ]
     },
     "execution_count": 8,
     "metadata": {},
     "output_type": "execute_result"
    },
    {
     "data": {
      "image/png": "[encoded data removed]",
      "text/plain": [
       "<Figure size 432x288 with 1 Axes>"
      ]
     },
     "metadata": {
      "needs_background": "light"
     },
     "output_type": "display_data"
    }
   ],
   "source": [
    "x=np.arange(-3,5,0.1)\n",
    "y=(x+2)*(x-1)*(x-4)\n",
    "\n",
    "\n",
    "data = np.array([\n",
    "    [-2,0],\n",
    "    [1,0],\n",
    "    [4,0],\n",
    "])\n",
    "xs,ys= data.T\n",
    "\n",
    "s=[100,100,100]\n",
    "\n",
    "\n",
    "plt.scatter(xs,ys,s=s, marker='o')\n",
    "\n",
    "\n",
    "\n",
    "\n",
    "\n",
    "plt.plot(x,y,color='red', linestyle='--')\n",
    "plt.xlim(-3,5)\n",
    "plt.ylim(-30,30)\n",
    "\n",
    "\n",
    "\n",
    "\n",
    "plt.title('how cool is this')\n",
    "plt.xlabel('x')\n",
    "plt.ylabel('y')\n",
    "plt.show\n",
    "\n"
   ]
  }
 ],
 "metadata": {
  "kernelspec": {
   "display_name": "Python 3",
   "language": "python",
   "name": "python3"
  },
  "language_info": {
   "codemirror_mode": {
    "name": "ipython",
    "version": 3
   },
   "file_extension": ".py",
   "mimetype": "text/x-python",
   "name": "python",
   "nbconvert_exporter": "python",
   "pygments_lexer": "ipython3",
   "version": "3.8.8"
  }
 },
 "nbformat": 4,
 "nbformat_minor": 5
}
